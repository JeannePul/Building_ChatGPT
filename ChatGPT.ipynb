{
  "nbformat": 4,
  "nbformat_minor": 0,
  "metadata": {
    "colab": {
      "provenance": [],
      "authorship_tag": "ABX9TyN3wH7YhzuNsBcCB4lkZS5o",
      "include_colab_link": true
    },
    "kernelspec": {
      "name": "python3",
      "display_name": "Python 3"
    },
    "language_info": {
      "name": "python"
    }
  },
  "cells": [
    {
      "cell_type": "markdown",
      "metadata": {
        "id": "view-in-github",
        "colab_type": "text"
      },
      "source": [
        "<a href=\"https://colab.research.google.com/github/JeannePul/Building_ChatGPT/blob/main/ChatGPT.ipynb\" target=\"_parent\"><img src=\"https://colab.research.google.com/assets/colab-badge.svg\" alt=\"Open In Colab\"/></a>"
      ]
    },
    {
      "cell_type": "markdown",
      "source": [
        "Goal: Understand how GPT2 works, build a NanoGPT with the lecture: [Let's build GPT: from scratch, in code, spelled out.](https://www.youtube.com/watch?v=kCc8FmEb1nY) by Andrej Kaparthy.\n",
        "\n"
      ],
      "metadata": {
        "id": "wLSwl-l3GrTW"
      }
    },
    {
      "cell_type": "markdown",
      "source": [
        "**1. Load the data**\n",
        "\n",
        "Here: A tiny Shakespeare dataset"
      ],
      "metadata": {
        "id": "Bg0HR-D4SYg1"
      }
    },
    {
      "cell_type": "code",
      "execution_count": null,
      "metadata": {
        "colab": {
          "base_uri": "https://localhost:8080/"
        },
        "id": "47mPDp5JFBQu",
        "outputId": "5e80b2a7-4f91-4c62-c050-9fe7a721d4ae"
      },
      "outputs": [
        {
          "output_type": "stream",
          "name": "stdout",
          "text": [
            "--2023-11-12 06:19:58--  https://raw.githubusercontent.com/karpathy/char-rnn//master/data/tinyshakespeare/input.txt\n",
            "Resolving raw.githubusercontent.com (raw.githubusercontent.com)... 185.199.109.133, 185.199.111.133, 185.199.108.133, ...\n",
            "Connecting to raw.githubusercontent.com (raw.githubusercontent.com)|185.199.109.133|:443... connected.\n",
            "HTTP request sent, awaiting response... 301 Moved Permanently\n",
            "Location: /karpathy/char-rnn/master/data/tinyshakespeare/input.txt [following]\n",
            "--2023-11-12 06:19:58--  https://raw.githubusercontent.com/karpathy/char-rnn/master/data/tinyshakespeare/input.txt\n",
            "Reusing existing connection to raw.githubusercontent.com:443.\n",
            "HTTP request sent, awaiting response... 200 OK\n",
            "Length: 1115394 (1.1M) [text/plain]\n",
            "Saving to: ‘input.txt’\n",
            "\n",
            "input.txt           100%[===================>]   1.06M  --.-KB/s    in 0.07s   \n",
            "\n",
            "2023-11-12 06:19:59 (15.2 MB/s) - ‘input.txt’ saved [1115394/1115394]\n",
            "\n"
          ]
        }
      ],
      "source": [
        "!wget https://raw.githubusercontent.com/karpathy/char-rnn//master/data/tinyshakespeare/input.txt"
      ]
    },
    {
      "cell_type": "markdown",
      "source": [
        "**2. Look at the data, play with it a bit:**"
      ],
      "metadata": {
        "id": "BKmvdPnoUcXB"
      }
    },
    {
      "cell_type": "code",
      "source": [
        "with open('input.txt', 'r', encoding= 'utf-8') as f:\n",
        "  text = f.read()"
      ],
      "metadata": {
        "id": "rn6NAnPPSzS2"
      },
      "execution_count": null,
      "outputs": []
    },
    {
      "cell_type": "markdown",
      "source": [
        "*with open(textfile, mode, encoding) -> opens your textfile, then closes it after use. Here: mode = 'r', because we want to read the file!*"
      ],
      "metadata": {
        "id": "22iNpbeiTvfR"
      }
    },
    {
      "cell_type": "code",
      "source": [
        "print('length of dataset in characters: ', len(text))"
      ],
      "metadata": {
        "colab": {
          "base_uri": "https://localhost:8080/"
        },
        "id": "ImxFHN89UJbx",
        "outputId": "ea6e23ee-ec44-4d11-b48a-7b79b5ee3f33"
      },
      "execution_count": null,
      "outputs": [
        {
          "output_type": "stream",
          "name": "stdout",
          "text": [
            "length of dataset in characters:  1115394\n"
          ]
        }
      ]
    },
    {
      "cell_type": "code",
      "source": [
        "print(text[0:50]) #first 51 characters of the shakespeare text"
      ],
      "metadata": {
        "colab": {
          "base_uri": "https://localhost:8080/"
        },
        "id": "3XjFwMO1UWWX",
        "outputId": "6493a786-55c2-4fb7-f55b-0d5d57cd1aa1"
      },
      "execution_count": null,
      "outputs": [
        {
          "output_type": "stream",
          "name": "stdout",
          "text": [
            "First Citizen:\n",
            "Before we proceed any further, hear\n"
          ]
        }
      ]
    },
    {
      "cell_type": "code",
      "source": [
        "set(text) #no duplicates, unordered"
      ],
      "metadata": {
        "id": "q-ZGvKF3U5v0",
        "colab": {
          "base_uri": "https://localhost:8080/"
        },
        "outputId": "63f67d16-f03f-4099-e578-9a3fd0aab2f0"
      },
      "execution_count": null,
      "outputs": [
        {
          "output_type": "execute_result",
          "data": {
            "text/plain": [
              "{'\\n',\n",
              " ' ',\n",
              " '!',\n",
              " '$',\n",
              " '&',\n",
              " \"'\",\n",
              " ',',\n",
              " '-',\n",
              " '.',\n",
              " '3',\n",
              " ':',\n",
              " ';',\n",
              " '?',\n",
              " 'A',\n",
              " 'B',\n",
              " 'C',\n",
              " 'D',\n",
              " 'E',\n",
              " 'F',\n",
              " 'G',\n",
              " 'H',\n",
              " 'I',\n",
              " 'J',\n",
              " 'K',\n",
              " 'L',\n",
              " 'M',\n",
              " 'N',\n",
              " 'O',\n",
              " 'P',\n",
              " 'Q',\n",
              " 'R',\n",
              " 'S',\n",
              " 'T',\n",
              " 'U',\n",
              " 'V',\n",
              " 'W',\n",
              " 'X',\n",
              " 'Y',\n",
              " 'Z',\n",
              " 'a',\n",
              " 'b',\n",
              " 'c',\n",
              " 'd',\n",
              " 'e',\n",
              " 'f',\n",
              " 'g',\n",
              " 'h',\n",
              " 'i',\n",
              " 'j',\n",
              " 'k',\n",
              " 'l',\n",
              " 'm',\n",
              " 'n',\n",
              " 'o',\n",
              " 'p',\n",
              " 'q',\n",
              " 'r',\n",
              " 's',\n",
              " 't',\n",
              " 'u',\n",
              " 'v',\n",
              " 'w',\n",
              " 'x',\n",
              " 'y',\n",
              " 'z'}"
            ]
          },
          "metadata": {},
          "execution_count": 5
        }
      ]
    },
    {
      "cell_type": "code",
      "source": [
        "list(set(text)) # list is better to work with. If I only did \"list(text), I´d get the whole text as a list.\""
      ],
      "metadata": {
        "id": "6d0OwEP5VEyI",
        "colab": {
          "base_uri": "https://localhost:8080/"
        },
        "outputId": "e4d6d22a-99e2-458b-890d-ebb78551c948"
      },
      "execution_count": null,
      "outputs": [
        {
          "output_type": "execute_result",
          "data": {
            "text/plain": [
              "['X',\n",
              " 'j',\n",
              " 't',\n",
              " 'h',\n",
              " 'T',\n",
              " 'Z',\n",
              " 'i',\n",
              " 'r',\n",
              " 'W',\n",
              " 'J',\n",
              " 'R',\n",
              " 'l',\n",
              " '$',\n",
              " ':',\n",
              " 'c',\n",
              " 'f',\n",
              " 'g',\n",
              " 'x',\n",
              " 'm',\n",
              " 'I',\n",
              " 'q',\n",
              " 'v',\n",
              " 'B',\n",
              " 'b',\n",
              " 'V',\n",
              " 'U',\n",
              " 'M',\n",
              " '!',\n",
              " 'y',\n",
              " \"'\",\n",
              " 'L',\n",
              " ' ',\n",
              " 'o',\n",
              " 'S',\n",
              " 'k',\n",
              " 'd',\n",
              " '.',\n",
              " 'a',\n",
              " 'u',\n",
              " 'z',\n",
              " 's',\n",
              " 'e',\n",
              " '?',\n",
              " 'D',\n",
              " 'Q',\n",
              " '3',\n",
              " 'Y',\n",
              " 'p',\n",
              " 'G',\n",
              " 'C',\n",
              " ',',\n",
              " '\\n',\n",
              " 'P',\n",
              " ';',\n",
              " 'N',\n",
              " 'E',\n",
              " '&',\n",
              " 'F',\n",
              " 'w',\n",
              " 'K',\n",
              " 'A',\n",
              " 'n',\n",
              " 'O',\n",
              " 'H',\n",
              " '-']"
            ]
          },
          "metadata": {},
          "execution_count": 6
        }
      ]
    },
    {
      "cell_type": "code",
      "source": [
        "chars = sorted(list(set(text)))\n",
        "''.join(chars)\n"
      ],
      "metadata": {
        "colab": {
          "base_uri": "https://localhost:8080/",
          "height": 35
        },
        "id": "Cge6UtzOVoli",
        "outputId": "2df08210-df2d-4d2a-d70c-7409e8fccdba"
      },
      "execution_count": null,
      "outputs": [
        {
          "output_type": "execute_result",
          "data": {
            "text/plain": [
              "\"\\n !$&',-.3:;?ABCDEFGHIJKLMNOPQRSTUVWXYZabcdefghijklmnopqrstuvwxyz\""
            ],
            "application/vnd.google.colaboratory.intrinsic+json": {
              "type": "string"
            }
          },
          "metadata": {},
          "execution_count": 7
        }
      ]
    },
    {
      "cell_type": "code",
      "source": [
        "print(''.join(chars))"
      ],
      "metadata": {
        "colab": {
          "base_uri": "https://localhost:8080/"
        },
        "id": "HtGKVyY4We4z",
        "outputId": "c950979f-bf32-4c37-a147-7bf247d71196"
      },
      "execution_count": null,
      "outputs": [
        {
          "output_type": "stream",
          "name": "stdout",
          "text": [
            "\n",
            " !$&',-.3:;?ABCDEFGHIJKLMNOPQRSTUVWXYZabcdefghijklmnopqrstuvwxyz\n"
          ]
        }
      ]
    },
    {
      "cell_type": "markdown",
      "source": [
        "*interesting: the \"\\n\" gets converted when I print it.*\n",
        "\n",
        "*The ' ' lets me join the different characters without anything in between. This way I can look at them in one row.*"
      ],
      "metadata": {
        "id": "lLYaK_3fWgrF"
      }
    },
    {
      "cell_type": "code",
      "source": [
        "print(len(chars))"
      ],
      "metadata": {
        "colab": {
          "base_uri": "https://localhost:8080/"
        },
        "id": "zVs4lUpoW7jb",
        "outputId": "0cb594b3-9fc6-4637-8b32-b8e64afbd4f3"
      },
      "execution_count": null,
      "outputs": [
        {
          "output_type": "stream",
          "name": "stdout",
          "text": [
            "65\n"
          ]
        }
      ]
    },
    {
      "cell_type": "markdown",
      "source": [
        "**3. Tokenize the Text.**\n",
        "\n",
        "In this example: We are looking at the characters on their own. No Vector-based model is used for the words.\n",
        "\n",
        "-> Character based language model\n",
        "\n",
        "For this, we create a encoder & decoder."
      ],
      "metadata": {
        "id": "74Kl7rzrXkvw"
      }
    },
    {
      "cell_type": "code",
      "source": [
        "encode = {1:'a'}\n",
        "encode[1]"
      ],
      "metadata": {
        "colab": {
          "base_uri": "https://localhost:8080/",
          "height": 35
        },
        "id": "Te_0_TZ5Z-wQ",
        "outputId": "2e79b7de-d729-4207-fb6b-ab7d9cb0391c"
      },
      "execution_count": null,
      "outputs": [
        {
          "output_type": "execute_result",
          "data": {
            "text/plain": [
              "'a'"
            ],
            "application/vnd.google.colaboratory.intrinsic+json": {
              "type": "string"
            }
          },
          "metadata": {},
          "execution_count": 10
        }
      ]
    },
    {
      "cell_type": "code",
      "source": [
        "encoder_dict = {} #how I usually do it\n",
        "for i,j in enumerate(chars):\n",
        "  encoder_dict[j] = i\n",
        "\n",
        "decoder_dict = { i:j for i,j in enumerate(chars)} #better code!"
      ],
      "metadata": {
        "id": "3fD20RrnYx53"
      },
      "execution_count": null,
      "outputs": []
    },
    {
      "cell_type": "code",
      "source": [
        "encode = lambda eps: [encoder_dict[z] for z in eps]\n",
        "decode = lambda omg: ''.join([decoder_dict[z] for z in omg])"
      ],
      "metadata": {
        "id": "rHRotSNjah2t"
      },
      "execution_count": null,
      "outputs": []
    },
    {
      "cell_type": "code",
      "source": [
        "print(encode('I am Jeanne!'))\n",
        "print(decode(encode('I am Jeanne!')))"
      ],
      "metadata": {
        "colab": {
          "base_uri": "https://localhost:8080/"
        },
        "id": "Dki6mjjDbipw",
        "outputId": "e6703ea5-d4a2-446d-c346-475f3ccf4714"
      },
      "execution_count": null,
      "outputs": [
        {
          "output_type": "stream",
          "name": "stdout",
          "text": [
            "[21, 1, 39, 51, 1, 22, 43, 39, 52, 52, 43, 2]\n",
            "I am Jeanne!\n"
          ]
        }
      ]
    },
    {
      "cell_type": "markdown",
      "source": [
        "***Idea for when I am done: *** Try to adapt the code in a way that uses another tokenizer\":"
      ],
      "metadata": {
        "id": "6jQIePcWcQm_"
      }
    },
    {
      "cell_type": "code",
      "source": [
        "import torch\n",
        "data = torch.tensor(encode(text), dtype=torch.long) # we put the encoded text in tensor form. -> Easier to work with!"
      ],
      "metadata": {
        "id": "OpYNRuehcwYl"
      },
      "execution_count": null,
      "outputs": []
    },
    {
      "cell_type": "code",
      "source": [
        "print(data.shape, \"\\n\", data.type)"
      ],
      "metadata": {
        "colab": {
          "base_uri": "https://localhost:8080/"
        },
        "id": "t1EHVoMnL6Zp",
        "outputId": "186fb9c3-b747-4be4-f3ff-18937159b0a4"
      },
      "execution_count": null,
      "outputs": [
        {
          "output_type": "stream",
          "name": "stdout",
          "text": [
            "torch.Size([1115394]) \n",
            " <built-in method type of Tensor object at 0x7a3e596c7e70>\n"
          ]
        }
      ]
    },
    {
      "cell_type": "code",
      "source": [
        "print(data[:100])"
      ],
      "metadata": {
        "colab": {
          "base_uri": "https://localhost:8080/"
        },
        "id": "AhDwmEpPMdb7",
        "outputId": "11f2992f-fc0e-433a-c2e4-4d15606a5be1"
      },
      "execution_count": null,
      "outputs": [
        {
          "output_type": "stream",
          "name": "stdout",
          "text": [
            "tensor([18, 47, 56, 57, 58,  1, 15, 47, 58, 47, 64, 43, 52, 10,  0, 14, 43, 44,\n",
            "        53, 56, 43,  1, 61, 43,  1, 54, 56, 53, 41, 43, 43, 42,  1, 39, 52, 63,\n",
            "         1, 44, 59, 56, 58, 46, 43, 56,  6,  1, 46, 43, 39, 56,  1, 51, 43,  1,\n",
            "        57, 54, 43, 39, 49,  8,  0,  0, 13, 50, 50, 10,  0, 31, 54, 43, 39, 49,\n",
            "         6,  1, 57, 54, 43, 39, 49,  8,  0,  0, 18, 47, 56, 57, 58,  1, 15, 47,\n",
            "        58, 47, 64, 43, 52, 10,  0, 37, 53, 59])\n"
          ]
        }
      ]
    },
    {
      "cell_type": "markdown",
      "source": [
        "-> This is the data, that we will give to the NN to learn (note: we will split it into train and test set, but the sets will look like this!)\n",
        "\n",
        "In the video he calls the test set \"validation set\". I don´t want to do that."
      ],
      "metadata": {
        "id": "8VHNNvwwMqer"
      }
    },
    {
      "cell_type": "markdown",
      "source": [
        "**4. Split into Train & Test set and turn the data into smaller \"blocks\"**"
      ],
      "metadata": {
        "id": "SjMJeXuVNulO"
      }
    },
    {
      "cell_type": "code",
      "source": [
        "n = int(0.9 * len(data)) # 90%\n",
        "train_data = data[:n]\n",
        "test_data = data[n:]"
      ],
      "metadata": {
        "id": "FBdwsJtxNNzp"
      },
      "execution_count": null,
      "outputs": []
    },
    {
      "cell_type": "markdown",
      "source": [
        "When we train the transformer: We only train with smaller chunks of the dataset at a time. These converted text-blocks should not exeed a certain size.\n",
        "\n",
        "This maximum size is called \"Block size\".\n",
        "\n",
        "Below we have a 9 characters block. But this doesn´t mean, that we train for the 9th character (as I would have thought).\n",
        "We can use this block to train for the second, the third, until the 9th character simultaneously. Each time the NN just look at the preceeding characters and guesses the next.\n",
        "\n",
        "-> With a 9 character block, we get to train for 8 characters."
      ],
      "metadata": {
        "id": "zErrg2JTOE6s"
      }
    },
    {
      "cell_type": "code",
      "source": [
        "block_size = 8\n",
        "train_data[:block_size+1]"
      ],
      "metadata": {
        "colab": {
          "base_uri": "https://localhost:8080/"
        },
        "id": "VCzE0JXwPBTV",
        "outputId": "1c3d87db-a228-44cb-a676-0833de945d5e"
      },
      "execution_count": null,
      "outputs": [
        {
          "output_type": "execute_result",
          "data": {
            "text/plain": [
              "tensor([18, 47, 56, 57, 58,  1, 15, 47, 58])"
            ]
          },
          "metadata": {},
          "execution_count": 26
        }
      ]
    },
    {
      "cell_type": "code",
      "source": [
        "x = train_data[:block_size]\n",
        "y = train_data[1:block_size + 1]\n",
        "\n",
        "print(x, '\\n', y)"
      ],
      "metadata": {
        "colab": {
          "base_uri": "https://localhost:8080/"
        },
        "id": "Na6Q3Gf1WNOJ",
        "outputId": "ce76da0d-4680-48d4-8a50-e9655fb58b09"
      },
      "execution_count": null,
      "outputs": [
        {
          "output_type": "stream",
          "name": "stdout",
          "text": [
            "tensor([18, 47, 56, 57, 58,  1, 15, 47]) \n",
            " tensor([47, 56, 57, 58,  1, 15, 47, 58])\n"
          ]
        }
      ]
    },
    {
      "cell_type": "code",
      "source": [
        "for t in range(block_size):\n",
        "  context = x[:t+1]\n",
        "  target = y[t]\n",
        "  print(f'when input is {context}, the target is: {target}') #note: great way to print!"
      ],
      "metadata": {
        "colab": {
          "base_uri": "https://localhost:8080/"
        },
        "id": "tQ4OA3tyVbEr",
        "outputId": "391f98b2-2c04-4fbe-fec5-52c1eb2d4178"
      },
      "execution_count": null,
      "outputs": [
        {
          "output_type": "stream",
          "name": "stdout",
          "text": [
            "when input is tensor([18]), the target is: 47\n",
            "when input is tensor([18, 47]), the target is: 56\n",
            "when input is tensor([18, 47, 56]), the target is: 57\n",
            "when input is tensor([18, 47, 56, 57]), the target is: 58\n",
            "when input is tensor([18, 47, 56, 57, 58]), the target is: 1\n",
            "when input is tensor([18, 47, 56, 57, 58,  1]), the target is: 15\n",
            "when input is tensor([18, 47, 56, 57, 58,  1, 15]), the target is: 47\n",
            "when input is tensor([18, 47, 56, 57, 58,  1, 15, 47]), the target is: 58\n"
          ]
        }
      ]
    },
    {
      "cell_type": "markdown",
      "source": [
        "Why do we do this?\n",
        "\n",
        "If we train on always the same length inputs, out NN would not be able to work with smaller sequences. This way, our model is more adaptable!"
      ],
      "metadata": {
        "id": "Oee-wOeWWz7N"
      }
    },
    {
      "cell_type": "markdown",
      "source": [
        "**5. Let´s make our input tensor!**\n",
        "\n",
        "-> What Batch size?\n",
        "\n",
        "-> How long should the block be?\n",
        "\n",
        "-> How do we randomize it?"
      ],
      "metadata": {
        "id": "Zh4S6Lw3Y840"
      }
    },
    {
      "cell_type": "code",
      "source": [
        "torch.manual_seed(1337) # have a random number, but everytime the same random number\n",
        "batch_size = 4\n",
        "block_size = 8\n",
        "\n",
        "def get_batch(split):\n",
        "  data = train_data if split == 'train' else test_data\n",
        "  ix = torch.randint(len(data)- block_size, (batch_size,))\n",
        "  print(ix.type())\n",
        "  # ix= 4 random integer between 0 and len(data)-8\n",
        "  x = torch.stack([data[i:i+block_size] for i in ix]) # x = 4 input vectors at 4 random places of our data (defined by ix)\n",
        "  y = torch.stack([data[i+1:i+block_size+1] for i in ix]) # y = 4 vectors, to compare the output of our NN with\n",
        "  return x,y\n",
        "\n",
        "xb, yb = get_batch('train')\n",
        "\n",
        "\"\"\" How I would have coded it:\n",
        "def get batch(split):\n",
        "  if split == 'train':\n",
        "    data = train_data\n",
        "  elif split == 'test':\n",
        "    data = test_data\n",
        "  ix = ...\n",
        "\"\"\""
      ],
      "metadata": {
        "colab": {
          "base_uri": "https://localhost:8080/",
          "height": 70
        },
        "id": "zLDuDB7fYwE_",
        "outputId": "db31b35f-8951-42d2-f8d6-642928dd2713"
      },
      "execution_count": null,
      "outputs": [
        {
          "output_type": "stream",
          "name": "stdout",
          "text": [
            "torch.LongTensor\n"
          ]
        },
        {
          "output_type": "execute_result",
          "data": {
            "text/plain": [
              "\" How I would have coded it:\\ndef get batch(split):\\n  if split == 'train':\\n    data = train_data\\n  elif split == 'test':\\n    data = test_data\\n  ix = ...\\n\""
            ],
            "application/vnd.google.colaboratory.intrinsic+json": {
              "type": "string"
            }
          },
          "metadata": {},
          "execution_count": 37
        }
      ]
    },
    {
      "cell_type": "markdown",
      "source": [
        "*torch.stack(tensors, dim=0, *, out=None) concatenates tensors along a given axis.*\n",
        "\n",
        "*ix.type() returns a long tensor.*"
      ],
      "metadata": {
        "id": "2sAV11SDj_hU"
      }
    },
    {
      "cell_type": "code",
      "source": [
        "print('input vectors: \\n', xb.shape, '\\n', xb)\n",
        "print('output vectors: \\n', yb.shape, '\\n', yb)"
      ],
      "metadata": {
        "colab": {
          "base_uri": "https://localhost:8080/"
        },
        "id": "cVghmX4kirpt",
        "outputId": "368244d9-17ab-4ea7-c93f-dec58014f71f"
      },
      "execution_count": null,
      "outputs": [
        {
          "output_type": "stream",
          "name": "stdout",
          "text": [
            "input vectors: \n",
            " torch.Size([4, 8]) \n",
            " tensor([[24, 43, 58,  5, 57,  1, 46, 43],\n",
            "        [44, 53, 56,  1, 58, 46, 39, 58],\n",
            "        [52, 58,  1, 58, 46, 39, 58,  1],\n",
            "        [25, 17, 27, 10,  0, 21,  1, 54]])\n",
            "output vectors: \n",
            " torch.Size([4, 8]) \n",
            " tensor([[43, 58,  5, 57,  1, 46, 43, 39],\n",
            "        [53, 56,  1, 58, 46, 39, 58,  1],\n",
            "        [58,  1, 58, 46, 39, 58,  1, 46],\n",
            "        [17, 27, 10,  0, 21,  1, 54, 39]])\n"
          ]
        }
      ]
    },
    {
      "cell_type": "code",
      "source": [
        "for b in range(batch_size): # First: The first vector...\n",
        "  print(f'Vector number {b+1}')\n",
        "\n",
        "  for t in range(block_size): # Then all possible parts of this vector\n",
        "    context = xb[b, :t+1]\n",
        "    target = yb[b,t]\n",
        "    print(f'when input is {context.tolist()}, the target is: {target}')"
      ],
      "metadata": {
        "colab": {
          "base_uri": "https://localhost:8080/"
        },
        "id": "Hs4KOXbuk3nF",
        "outputId": "2659b550-7577-40d3-d12d-67231c403cb5"
      },
      "execution_count": null,
      "outputs": [
        {
          "output_type": "stream",
          "name": "stdout",
          "text": [
            "Vector number 1\n",
            "when input is [24], the target is: 43\n",
            "when input is [24, 43], the target is: 58\n",
            "when input is [24, 43, 58], the target is: 5\n",
            "when input is [24, 43, 58, 5], the target is: 57\n",
            "when input is [24, 43, 58, 5, 57], the target is: 1\n",
            "when input is [24, 43, 58, 5, 57, 1], the target is: 46\n",
            "when input is [24, 43, 58, 5, 57, 1, 46], the target is: 43\n",
            "when input is [24, 43, 58, 5, 57, 1, 46, 43], the target is: 39\n",
            "Vector number 2\n",
            "when input is [44], the target is: 53\n",
            "when input is [44, 53], the target is: 56\n",
            "when input is [44, 53, 56], the target is: 1\n",
            "when input is [44, 53, 56, 1], the target is: 58\n",
            "when input is [44, 53, 56, 1, 58], the target is: 46\n",
            "when input is [44, 53, 56, 1, 58, 46], the target is: 39\n",
            "when input is [44, 53, 56, 1, 58, 46, 39], the target is: 58\n",
            "when input is [44, 53, 56, 1, 58, 46, 39, 58], the target is: 1\n",
            "Vector number 3\n",
            "when input is [52], the target is: 58\n",
            "when input is [52, 58], the target is: 1\n",
            "when input is [52, 58, 1], the target is: 58\n",
            "when input is [52, 58, 1, 58], the target is: 46\n",
            "when input is [52, 58, 1, 58, 46], the target is: 39\n",
            "when input is [52, 58, 1, 58, 46, 39], the target is: 58\n",
            "when input is [52, 58, 1, 58, 46, 39, 58], the target is: 1\n",
            "when input is [52, 58, 1, 58, 46, 39, 58, 1], the target is: 46\n",
            "Vector number 4\n",
            "when input is [25], the target is: 17\n",
            "when input is [25, 17], the target is: 27\n",
            "when input is [25, 17, 27], the target is: 10\n",
            "when input is [25, 17, 27, 10], the target is: 0\n",
            "when input is [25, 17, 27, 10, 0], the target is: 21\n",
            "when input is [25, 17, 27, 10, 0, 21], the target is: 1\n",
            "when input is [25, 17, 27, 10, 0, 21, 1], the target is: 54\n",
            "when input is [25, 17, 27, 10, 0, 21, 1, 54], the target is: 39\n"
          ]
        }
      ]
    },
    {
      "cell_type": "markdown",
      "source": [],
      "metadata": {
        "id": "dvCYQ0PJjAua"
      }
    }
  ]
}